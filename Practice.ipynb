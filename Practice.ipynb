{
  "nbformat": 4,
  "nbformat_minor": 0,
  "metadata": {
    "colab": {
      "provenance": [],
      "authorship_tag": "ABX9TyM+yC7fnQR2h2mAMyK1gtwN",
      "include_colab_link": true
    },
    "kernelspec": {
      "name": "python3",
      "display_name": "Python 3"
    },
    "language_info": {
      "name": "python"
    }
  },
  "cells": [
    {
      "cell_type": "markdown",
      "metadata": {
        "id": "view-in-github",
        "colab_type": "text"
      },
      "source": [
        "<a href=\"https://colab.research.google.com/github/Lunindi/GettingStarted/blob/main/Practice.ipynb\" target=\"_parent\"><img src=\"https://colab.research.google.com/assets/colab-badge.svg\" alt=\"Open In Colab\"/></a>"
      ]
    },
    {
      "cell_type": "code",
      "source": [
        "mystring = \"HELLO\"\n",
        "mystring[::2]"
      ],
      "metadata": {
        "colab": {
          "base_uri": "https://localhost:8080/",
          "height": 35
        },
        "id": "48RoP5nSvwC7",
        "outputId": "680c9ec6-e7cc-4011-c665-4ac258424544"
      },
      "execution_count": null,
      "outputs": [
        {
          "output_type": "execute_result",
          "data": {
            "text/plain": [
              "'HLO'"
            ],
            "application/vnd.google.colaboratory.intrinsic+json": {
              "type": "string"
            }
          },
          "metadata": {},
          "execution_count": 3
        }
      ]
    },
    {
      "cell_type": "code",
      "source": [
        "mystring[::-1]"
      ],
      "metadata": {
        "colab": {
          "base_uri": "https://localhost:8080/",
          "height": 35
        },
        "id": "srZHzwzXwdyB",
        "outputId": "3b4ad7f5-8043-49b8-abef-ba9b1294e2e7"
      },
      "execution_count": null,
      "outputs": [
        {
          "output_type": "execute_result",
          "data": {
            "text/plain": [
              "'OLLEH'"
            ],
            "application/vnd.google.colaboratory.intrinsic+json": {
              "type": "string"
            }
          },
          "metadata": {},
          "execution_count": 5
        }
      ]
    },
    {
      "cell_type": "code",
      "source": [
        "a,b,c = -5,0,10\n",
        "if c==0:\n",
        "  print(\"number = 0\")\n",
        "elif c>0:\n",
        "  print(\"number is positive\")\n",
        "else:\n",
        "  print(\"number is negative\")"
      ],
      "metadata": {
        "colab": {
          "base_uri": "https://localhost:8080/"
        },
        "id": "gLyeHX70CYvZ",
        "outputId": "ac2bd673-e653-4346-c9f3-ea89633f2da5"
      },
      "execution_count": null,
      "outputs": [
        {
          "output_type": "stream",
          "name": "stdout",
          "text": [
            "number is positive\n"
          ]
        }
      ]
    },
    {
      "cell_type": "code",
      "source": [
        "a=1\n",
        "while a<6:\n",
        "  print(a)\n",
        "  a=1+a\n",
        "print(\"The End\")"
      ],
      "metadata": {
        "colab": {
          "base_uri": "https://localhost:8080/"
        },
        "id": "4vOMB1-3HgZr",
        "outputId": "d218eb27-92fb-47e5-9879-2a51efe595a6"
      },
      "execution_count": null,
      "outputs": [
        {
          "output_type": "stream",
          "name": "stdout",
          "text": [
            "1\n",
            "2\n",
            "3\n",
            "4\n",
            "5\n",
            "The End\n"
          ]
        }
      ]
    },
    {
      "cell_type": "code",
      "source": [
        "mylist=[\"Oolong\",\"Assam\",\"Green\",\"White\"]\n",
        "if \"Rooibos\" in mylist:\n",
        "  print(\"Available\")\n",
        "elif \"Rooibos\" not in mylist:\n",
        "   mylist.append(\"Rooibos\")\n",
        "\n",
        "print(mylist)\n"
      ],
      "metadata": {
        "id": "0V-kZhMBO47V",
        "colab": {
          "base_uri": "https://localhost:8080/"
        },
        "outputId": "09c8954a-ab54-4964-d81f-ea99dbe2be07"
      },
      "execution_count": 21,
      "outputs": [
        {
          "output_type": "stream",
          "name": "stdout",
          "text": [
            "['Oolong', 'Assam', 'Green', 'White', 'Rooibos']\n"
          ]
        }
      ]
    },
    {
      "cell_type": "code",
      "source": [
        "element=input(\"Please input tea type (Capitalised)\")\n",
        "if element in mylist:\n",
        "  print(\"Tea is already in list\")\n",
        "else:\n",
        "  mylist.append(element)\n",
        "  print(\"The new list is:\", mylist)"
      ],
      "metadata": {
        "colab": {
          "base_uri": "https://localhost:8080/"
        },
        "id": "T0MpgbTjpwoD",
        "outputId": "63f1d915-f3fc-4ee5-8362-82d21f56e9f9"
      },
      "execution_count": 25,
      "outputs": [
        {
          "output_type": "stream",
          "name": "stdout",
          "text": [
            "Please input tea type (Capitalised)Green\n",
            "Tea is already in list\n"
          ]
        }
      ]
    },
    {
      "cell_type": "code",
      "source": [
        "for element in range(len(mylist)):\n",
        "  print(element, mylist[element])"
      ],
      "metadata": {
        "colab": {
          "base_uri": "https://localhost:8080/"
        },
        "id": "SGzJQgRKtie6",
        "outputId": "f2a14f81-3b8f-4701-d49c-91a4a1cfab41"
      },
      "execution_count": 26,
      "outputs": [
        {
          "output_type": "stream",
          "name": "stdout",
          "text": [
            "0 Oolong\n",
            "1 Assam\n",
            "2 Green\n",
            "3 White\n",
            "4 Rooibos\n",
            "5 Herbal\n",
            "6 Fruit\n"
          ]
        }
      ]
    },
    {
      "cell_type": "code",
      "source": [
        "a=[1,2,3,4,5,6,7,8]\n",
        "c=[]\n",
        "for x in a:\n",
        "  c.append(x*2)\n",
        "print(c)"
      ],
      "metadata": {
        "colab": {
          "base_uri": "https://localhost:8080/"
        },
        "id": "mHXrhSwXulUG",
        "outputId": "0ffb79ed-06ad-4221-fbaf-23bc0f9cc356"
      },
      "execution_count": 28,
      "outputs": [
        {
          "output_type": "stream",
          "name": "stdout",
          "text": [
            "[2, 4, 6, 8, 10, 12, 14, 16]\n"
          ]
        }
      ]
    },
    {
      "cell_type": "code",
      "source": [
        "a=\"Python\"\n",
        "\n",
        "b=[letter.upper() for letter in \"python\"]\n",
        "print(b)\n"
      ],
      "metadata": {
        "colab": {
          "base_uri": "https://localhost:8080/"
        },
        "id": "rv3KVigKu1r1",
        "outputId": "22b7def2-6c18-4988-e8c4-6511cc425094"
      },
      "execution_count": 32,
      "outputs": [
        {
          "output_type": "stream",
          "name": "stdout",
          "text": [
            "['P', 'Y', 'T', 'H', 'O', 'N']\n"
          ]
        }
      ]
    },
    {
      "cell_type": "code",
      "source": [
        "mydict={\"employee\":\"Zara\",\"salary\":5000}\n",
        "mydict[\"department\"] =\"sales\"\n",
        "print(mydict)\n",
        "print(len(mydict))"
      ],
      "metadata": {
        "colab": {
          "base_uri": "https://localhost:8080/"
        },
        "id": "V33AlRkqwzV-",
        "outputId": "629f899d-bf2f-4801-eb75-89b13bd23ce4"
      },
      "execution_count": 36,
      "outputs": [
        {
          "output_type": "stream",
          "name": "stdout",
          "text": [
            "{'employee': 'Zara', 'salary': 5000, 'department': 'sales'}\n",
            "3\n"
          ]
        }
      ]
    },
    {
      "cell_type": "code",
      "source": [
        "if \"department\" in mydict:\n",
        "  print(\"The key exists\")"
      ],
      "metadata": {
        "colab": {
          "base_uri": "https://localhost:8080/"
        },
        "id": "Mm_MmhGBxlBJ",
        "outputId": "c78ec2b9-2097-4723-8a43-f14195241adb"
      },
      "execution_count": 37,
      "outputs": [
        {
          "output_type": "stream",
          "name": "stdout",
          "text": [
            "The key exists\n"
          ]
        }
      ]
    },
    {
      "cell_type": "code",
      "source": [
        "mydict.update({\"salary\": 6000, \"status\": \"permanent\", \"level\":3})\n",
        "print(mydict)"
      ],
      "metadata": {
        "colab": {
          "base_uri": "https://localhost:8080/"
        },
        "id": "lw2wlLPex17O",
        "outputId": "66ae9bf2-846c-4e50-e0b4-01f86625685f"
      },
      "execution_count": 40,
      "outputs": [
        {
          "output_type": "stream",
          "name": "stdout",
          "text": [
            "{'employee': 'Zara', 'salary': 6000, 'department': 'sales', 'status': 'permanent', 'level': 3}\n"
          ]
        }
      ]
    },
    {
      "cell_type": "code",
      "source": [
        "del mydict [\"salary\"]\n",
        "print(mydict)"
      ],
      "metadata": {
        "colab": {
          "base_uri": "https://localhost:8080/"
        },
        "id": "6fjGBh5cyukA",
        "outputId": "8345138f-6ab8-48af-9f42-08e167a18c7d"
      },
      "execution_count": 46,
      "outputs": [
        {
          "output_type": "stream",
          "name": "stdout",
          "text": [
            "{'employee': 'Zara', 'department': 'sales', 'status': 'permanent', 'level': 3}\n"
          ]
        }
      ]
    },
    {
      "cell_type": "code",
      "source": [
        "mydict.clear()\n",
        "print(mydict)"
      ],
      "metadata": {
        "colab": {
          "base_uri": "https://localhost:8080/"
        },
        "id": "aizC8UYIzuw-",
        "outputId": "3bfec0da-a795-4515-d111-97d5382e4da4"
      },
      "execution_count": 47,
      "outputs": [
        {
          "output_type": "stream",
          "name": "stdout",
          "text": [
            "{}\n"
          ]
        }
      ]
    }
  ]
}